{
 "cells": [
  {
   "cell_type": "code",
   "execution_count": 1,
   "metadata": {},
   "outputs": [],
   "source": [
    "import matplotlib.pyplot as plt\n",
    "import numpy as np\n",
    "import pandas as pd\n",
    "import tensorflow as tf\n",
    "\n",
    "from sklearn.metrics import accuracy_score, precision_score, recall_score\n",
    "from tensorflow.keras import Sequential, layers, losses\n",
    "from tensorflow.keras.models import Model\n",
    "\n",
    "from data_generation import *"
   ]
  },
  {
   "cell_type": "markdown",
   "metadata": {},
   "source": [
    "## Test with Fashion-MNIST Data (from TF docs)"
   ]
  },
  {
   "cell_type": "code",
   "execution_count": 2,
   "metadata": {},
   "outputs": [],
   "source": [
    "class Autoencoder(Model):\n",
    "  def __init__(self, original_dim, latent_dim):\n",
    "    super(Autoencoder, self).__init__()\n",
    "    self.latent_dim = latent_dim   \n",
    "    self.encoder = tf.keras.Sequential([\n",
    "      layers.Flatten(),\n",
    "      layers.Dense(latent_dim, activation='relu'),\n",
    "    ])\n",
    "    self.decoder = tf.keras.Sequential([\n",
    "      layers.Dense(np.product(original_dim), activation='sigmoid'),\n",
    "      layers.Reshape(original_dim)\n",
    "    ])\n",
    "\n",
    "  def call(self, x):\n",
    "    encoded = self.encoder(x)\n",
    "    decoded = self.decoder(encoded)\n",
    "    return decoded"
   ]
  },
  {
   "cell_type": "code",
   "execution_count": null,
   "metadata": {},
   "outputs": [],
   "source": [
    "from sklearn.model_selection import train_test_split\n",
    "from tensorflow.keras.datasets import fashion_mnist"
   ]
  },
  {
   "cell_type": "code",
   "execution_count": 71,
   "metadata": {},
   "outputs": [
    {
     "name": "stdout",
     "output_type": "stream",
     "text": [
      "Downloading data from https://storage.googleapis.com/tensorflow/tf-keras-datasets/train-labels-idx1-ubyte.gz\n",
      "32768/29515 [=================================] - 0s 3us/step\n",
      "Downloading data from https://storage.googleapis.com/tensorflow/tf-keras-datasets/train-images-idx3-ubyte.gz\n",
      "26427392/26421880 [==============================] - 8s 0us/step\n",
      "Downloading data from https://storage.googleapis.com/tensorflow/tf-keras-datasets/t10k-labels-idx1-ubyte.gz\n",
      "8192/5148 [===============================================] - 0s 0us/step\n",
      "Downloading data from https://storage.googleapis.com/tensorflow/tf-keras-datasets/t10k-images-idx3-ubyte.gz\n",
      "4423680/4422102 [==============================] - 1s 0us/step\n",
      "(60000, 28, 28)\n",
      "(10000, 28, 28)\n"
     ]
    }
   ],
   "source": [
    "autoencoder = Autoencoder((28,28),64)\n",
    "autoencoder.compile(optimizer='adam', loss=losses.MeanSquaredError())\n",
    "\n",
    "(x_train, _), (x_test, _) = fashion_mnist.load_data()\n",
    "\n",
    "x_train = x_train.astype('float32') / 255.\n",
    "x_test = x_test.astype('float32') / 255.\n",
    "\n",
    "print (x_train.shape)\n",
    "print (x_test.shape)"
   ]
  },
  {
   "cell_type": "code",
   "execution_count": 72,
   "metadata": {},
   "outputs": [
    {
     "name": "stdout",
     "output_type": "stream",
     "text": [
      "Train on 60000 samples, validate on 10000 samples\n",
      "Epoch 1/10\n",
      "60000/60000 [==============================] - 14s 226us/sample - loss: 0.0237 - val_loss: 0.0133\n",
      "Epoch 2/10\n",
      "60000/60000 [==============================] - 9s 154us/sample - loss: 0.0117 - val_loss: 0.0107\n",
      "Epoch 3/10\n",
      "60000/60000 [==============================] - 9s 142us/sample - loss: 0.0101 - val_loss: 0.0097\n",
      "Epoch 4/10\n",
      "60000/60000 [==============================] - 10s 158us/sample - loss: 0.0095 - val_loss: 0.0094\n",
      "Epoch 5/10\n",
      "60000/60000 [==============================] - 12s 204us/sample - loss: 0.0093 - val_loss: 0.0092\n",
      "Epoch 6/10\n",
      "60000/60000 [==============================] - 10s 160us/sample - loss: 0.0091 - val_loss: 0.0091\n",
      "Epoch 7/10\n",
      "60000/60000 [==============================] - 12s 194us/sample - loss: 0.0090 - val_loss: 0.0090\n",
      "Epoch 8/10\n",
      "60000/60000 [==============================] - 11s 180us/sample - loss: 0.0089 - val_loss: 0.0090\n",
      "Epoch 9/10\n",
      "60000/60000 [==============================] - 10s 170us/sample - loss: 0.0089 - val_loss: 0.0090\n",
      "Epoch 10/10\n",
      "60000/60000 [==============================] - 11s 179us/sample - loss: 0.0088 - val_loss: 0.0089\n"
     ]
    },
    {
     "data": {
      "text/plain": [
       "<tensorflow.python.keras.callbacks.History at 0x1b6a4296288>"
      ]
     },
     "execution_count": 72,
     "metadata": {},
     "output_type": "execute_result"
    }
   ],
   "source": [
    "autoencoder.fit(x_train, x_train,\n",
    "                epochs=10,\n",
    "                shuffle=True,\n",
    "                validation_data=(x_test, x_test))"
   ]
  },
  {
   "cell_type": "code",
   "execution_count": 84,
   "metadata": {},
   "outputs": [
    {
     "data": {
      "text/plain": [
       "<matplotlib.image.AxesImage at 0x1b6a8efe108>"
      ]
     },
     "execution_count": 84,
     "metadata": {},
     "output_type": "execute_result"
    },
    {
     "data": {
      "image/png": "[encoded data removed]",
      "text/plain": [
       "<Figure size 432x288 with 1 Axes>"
      ]
     },
     "metadata": {
      "needs_background": "light"
     },
     "output_type": "display_data"
    }
   ],
   "source": [
    "encoded_imgs = autoencoder.encoder(x_test).numpy()\n",
    "decoded_imgs = autoencoder.decoder(encoded_imgs).numpy()\n",
    "plt.imshow(decoded_imgs[0])"
   ]
  },
  {
   "cell_type": "code",
   "execution_count": 48,
   "metadata": {},
   "outputs": [],
   "source": [
    "testx = 10 * np.random.rand(200,3)"
   ]
  },
  {
   "cell_type": "code",
   "execution_count": 92,
   "metadata": {},
   "outputs": [
    {
     "name": "stdout",
     "output_type": "stream",
     "text": [
      "Train on 200 samples\n",
      "Epoch 1/10\n",
      "200/200 [==============================] - 2s 11ms/sample - loss: 29.6370\n",
      "Epoch 2/10\n",
      "200/200 [==============================] - 0s 224us/sample - loss: 29.4393\n",
      "Epoch 3/10\n",
      "200/200 [==============================] - 0s 399us/sample - loss: 29.2395\n",
      "Epoch 4/10\n",
      "200/200 [==============================] - 0s 738us/sample - loss: 29.0538\n",
      "Epoch 5/10\n",
      "200/200 [==============================] - 0s 429us/sample - loss: 28.8702\n",
      "Epoch 6/10\n",
      "200/200 [==============================] - 0s 120us/sample - loss: 28.6969\n",
      "Epoch 7/10\n",
      "200/200 [==============================] - 0s 204us/sample - loss: 28.5291\n",
      "Epoch 8/10\n",
      "200/200 [==============================] - 0s 324us/sample - loss: 28.3681\n",
      "Epoch 9/10\n",
      "200/200 [==============================] - 0s 429us/sample - loss: 28.2161\n",
      "Epoch 10/10\n",
      "200/200 [==============================] - 0s 204us/sample - loss: 28.0741\n"
     ]
    },
    {
     "data": {
      "text/plain": [
       "<tensorflow.python.keras.callbacks.History at 0x1b6a95cabc8>"
      ]
     },
     "execution_count": 92,
     "metadata": {},
     "output_type": "execute_result"
    }
   ],
   "source": [
    "autoencoder = Autoencoder((3,), 2)\n",
    "autoencoder.compile(optimizer='adam', loss=tlosses.MeanSquaredError())\n",
    "autoencoder.fit(testx, testx,\n",
    "                epochs=10,\n",
    "                shuffle=True)"
   ]
  },
  {
   "cell_type": "code",
   "execution_count": 93,
   "metadata": {},
   "outputs": [
    {
     "name": "stdout",
     "output_type": "stream",
     "text": [
      "WARNING:tensorflow:Layer flatten_2 is casting an input tensor from dtype float64 to the layer's dtype of float32, which is new behavior in TensorFlow 2.  The layer has dtype float32 because it's dtype defaults to floatx.\n",
      "\n",
      "If you intended to run this layer in float32, you can safely ignore this warning. If in doubt, this warning is likely only an issue if you are porting a TensorFlow 1.X model to TensorFlow 2.\n",
      "\n",
      "To change all layers to have dtype float64 by default, call `tf.keras.backend.set_floatx('float64')`. To change just this layer, pass dtype='float64' to the layer constructor. If you are the author of this layer, you can disable autocasting by passing autocast=False to the base Layer constructor.\n",
      "\n"
     ]
    },
    {
     "data": {
      "text/plain": [
       "array([[0.10273243, 2.7659254 ],\n",
       "       [0.        , 1.3013647 ],\n",
       "       [0.        , 6.1242886 ],\n",
       "       [1.0162189 , 3.146973  ],\n",
       "       [0.        , 8.942619  ],\n",
       "       [0.49767047, 6.627884  ],\n",
       "       [1.5517533 , 5.1691127 ],\n",
       "       [1.9623103 , 3.477215  ],\n",
       "       [3.1309047 , 0.7787167 ],\n",
       "       [1.1138694 , 3.0863163 ],\n",
       "       [2.7746837 , 1.0116595 ],\n",
       "       [1.6211312 , 2.952514  ],\n",
       "       [0.        , 8.766969  ],\n",
       "       [1.1328514 , 4.893742  ],\n",
       "       [0.        , 5.1943226 ],\n",
       "       [0.        , 7.3911076 ],\n",
       "       [0.2490511 , 7.825014  ],\n",
       "       [0.8987224 , 4.911863  ],\n",
       "       [1.6388497 , 4.8133316 ],\n",
       "       [2.4422228 , 2.8136115 ],\n",
       "       [0.        , 4.812908  ],\n",
       "       [0.        , 8.134511  ],\n",
       "       [0.        , 4.626982  ],\n",
       "       [1.713757  , 3.2492185 ],\n",
       "       [0.13634227, 2.9096012 ],\n",
       "       [0.        , 4.5166445 ],\n",
       "       [0.        , 7.174412  ],\n",
       "       [0.4615385 , 4.56998   ],\n",
       "       [0.        , 4.601959  ],\n",
       "       [0.        , 8.713144  ],\n",
       "       [2.985838  , 0.90884435],\n",
       "       [1.5578783 , 4.9562044 ],\n",
       "       [0.41268265, 5.872646  ],\n",
       "       [0.        , 9.97672   ],\n",
       "       [1.7577634 , 4.047474  ],\n",
       "       [0.        , 3.9738348 ],\n",
       "       [0.        , 7.910152  ],\n",
       "       [0.        , 8.5526285 ],\n",
       "       [2.0869744 , 2.863618  ],\n",
       "       [0.        , 5.8034854 ],\n",
       "       [0.        , 6.7576213 ],\n",
       "       [0.22318667, 5.7143946 ],\n",
       "       [0.        , 7.118703  ],\n",
       "       [0.        , 7.8341436 ],\n",
       "       [0.        , 6.512017  ],\n",
       "       [1.3944409 , 3.0377514 ],\n",
       "       [2.3936217 , 0.7532743 ],\n",
       "       [0.        , 7.42932   ],\n",
       "       [0.21106246, 3.790141  ],\n",
       "       [0.        , 4.3279533 ],\n",
       "       [0.        , 8.887134  ],\n",
       "       [0.        , 2.6886191 ],\n",
       "       [1.9680479 , 3.9778905 ],\n",
       "       [0.        , 9.158799  ],\n",
       "       [0.26856375, 2.2669654 ],\n",
       "       [0.        , 7.5650773 ],\n",
       "       [0.        , 7.91511   ],\n",
       "       [1.1344523 , 6.0939856 ],\n",
       "       [0.        , 5.1225185 ],\n",
       "       [2.463785  , 3.0525756 ],\n",
       "       [0.        , 2.494824  ],\n",
       "       [1.7015734 , 4.241256  ],\n",
       "       [0.87952   , 5.244713  ],\n",
       "       [1.7478318 , 3.1302845 ],\n",
       "       [0.        , 9.917642  ],\n",
       "       [0.        , 7.63698   ],\n",
       "       [0.        , 8.724931  ],\n",
       "       [0.        , 4.826999  ],\n",
       "       [0.        , 8.071343  ],\n",
       "       [1.4645219 , 4.645581  ],\n",
       "       [0.        , 2.9190292 ],\n",
       "       [0.10227047, 5.762031  ],\n",
       "       [0.3568752 , 6.6970367 ],\n",
       "       [2.012335  , 3.6931038 ],\n",
       "       [0.        , 5.812114  ],\n",
       "       [0.        , 5.162632  ],\n",
       "       [0.        , 2.3709488 ],\n",
       "       [0.9022397 , 5.2784095 ],\n",
       "       [0.        , 8.927497  ],\n",
       "       [0.5311169 , 6.018094  ],\n",
       "       [0.        , 7.1728377 ],\n",
       "       [2.2931926 , 1.9029087 ],\n",
       "       [2.2896693 , 1.0653133 ],\n",
       "       [1.1347814 , 0.5867374 ],\n",
       "       [1.7755876 , 4.5557127 ],\n",
       "       [0.        , 6.119924  ],\n",
       "       [0.        , 7.4573154 ],\n",
       "       [0.        , 7.2621865 ],\n",
       "       [1.4591742 , 5.05009   ],\n",
       "       [0.        , 2.5975385 ],\n",
       "       [0.        , 7.105823  ],\n",
       "       [0.        , 5.1417966 ],\n",
       "       [0.        , 7.3764677 ],\n",
       "       [1.2810359 , 4.7754803 ],\n",
       "       [0.        , 7.3218975 ],\n",
       "       [0.81272346, 4.204598  ],\n",
       "       [0.31786755, 2.5215216 ],\n",
       "       [0.        , 3.2672937 ],\n",
       "       [0.        , 2.6213365 ],\n",
       "       [0.28313467, 6.6444583 ],\n",
       "       [0.75055933, 5.094456  ],\n",
       "       [0.        , 3.839654  ],\n",
       "       [0.47614777, 3.626512  ],\n",
       "       [0.        , 7.309808  ],\n",
       "       [0.        , 7.1760664 ],\n",
       "       [0.        , 2.5511549 ],\n",
       "       [0.        , 7.0582786 ],\n",
       "       [2.0539048 , 3.7384284 ],\n",
       "       [4.163468  , 0.        ],\n",
       "       [2.057512  , 1.559788  ],\n",
       "       [1.6072853 , 3.4741206 ],\n",
       "       [0.        , 6.6104913 ],\n",
       "       [0.        , 6.250196  ],\n",
       "       [0.        , 8.725486  ],\n",
       "       [0.        , 8.849029  ],\n",
       "       [0.        , 4.6382174 ],\n",
       "       [2.1025605 , 3.50532   ],\n",
       "       [0.2538133 , 3.223793  ],\n",
       "       [0.1447702 , 2.7151673 ],\n",
       "       [0.        , 5.3678074 ],\n",
       "       [0.        , 2.5138998 ],\n",
       "       [0.        , 8.069377  ],\n",
       "       [0.5576641 , 3.7495282 ],\n",
       "       [0.        , 5.884299  ],\n",
       "       [0.        , 8.76152   ],\n",
       "       [1.7131214 , 4.513685  ],\n",
       "       [1.1089358 , 0.10925093],\n",
       "       [0.        , 1.9962888 ],\n",
       "       [0.07012014, 5.514362  ],\n",
       "       [0.        , 7.874281  ],\n",
       "       [2.0894523 , 2.9780807 ],\n",
       "       [0.81620455, 3.2760656 ],\n",
       "       [0.29816243, 3.5188308 ],\n",
       "       [0.        , 2.9292545 ],\n",
       "       [0.        , 2.8738463 ],\n",
       "       [0.        , 2.920109  ],\n",
       "       [0.2770513 , 6.499048  ],\n",
       "       [0.47984463, 1.9720564 ],\n",
       "       [0.71557325, 5.1455264 ],\n",
       "       [1.4890549 , 3.3701954 ],\n",
       "       [1.5276127 , 1.997606  ],\n",
       "       [0.        , 7.4398775 ],\n",
       "       [0.        , 3.2551298 ],\n",
       "       [1.9157388 , 1.3784229 ],\n",
       "       [1.2015846 , 5.389158  ],\n",
       "       [0.        , 5.7077584 ],\n",
       "       [1.8136332 , 3.738304  ],\n",
       "       [1.548383  , 5.2196727 ],\n",
       "       [0.        , 8.813951  ],\n",
       "       [0.        , 4.5568833 ],\n",
       "       [0.37685716, 2.56398   ],\n",
       "       [0.        , 9.494232  ],\n",
       "       [0.        , 5.0434947 ],\n",
       "       [0.        , 5.4109526 ],\n",
       "       [0.26543236, 2.897924  ],\n",
       "       [1.0823267 , 5.0519905 ],\n",
       "       [1.0574627 , 6.014646  ],\n",
       "       [0.        , 6.996664  ],\n",
       "       [0.        , 4.543502  ],\n",
       "       [0.        , 6.6522    ],\n",
       "       [0.        , 5.406484  ],\n",
       "       [0.        , 5.477585  ],\n",
       "       [0.28699344, 3.2683444 ],\n",
       "       [3.3125653 , 1.0621808 ],\n",
       "       [1.9801464 , 3.3421974 ],\n",
       "       [0.        , 7.7509975 ],\n",
       "       [1.413913  , 1.9481452 ],\n",
       "       [0.        , 4.129244  ],\n",
       "       [0.        , 7.703476  ],\n",
       "       [0.78039366, 4.424303  ],\n",
       "       [0.        , 4.018124  ],\n",
       "       [0.        , 5.98124   ],\n",
       "       [0.        , 7.5116467 ],\n",
       "       [0.        , 5.650285  ],\n",
       "       [0.        , 7.218446  ],\n",
       "       [1.1621828 , 4.609808  ],\n",
       "       [0.84612995, 5.5469556 ],\n",
       "       [0.        , 1.3944589 ],\n",
       "       [0.        , 7.3734117 ],\n",
       "       [0.        , 6.3609123 ],\n",
       "       [0.        , 4.4807143 ],\n",
       "       [0.        , 8.50948   ],\n",
       "       [2.1832607 , 1.1922561 ],\n",
       "       [0.        , 9.564758  ],\n",
       "       [2.0109687 , 0.62883556],\n",
       "       [0.9155657 , 5.9088516 ],\n",
       "       [1.4371307 , 2.8669536 ],\n",
       "       [0.        , 8.259926  ],\n",
       "       [0.        , 4.8220806 ],\n",
       "       [0.        , 5.9261575 ],\n",
       "       [0.        , 4.271913  ],\n",
       "       [0.3767557 , 4.2241955 ],\n",
       "       [0.09691502, 2.265155  ],\n",
       "       [1.8358614 , 4.268035  ],\n",
       "       [0.        , 5.2107    ],\n",
       "       [2.768045  , 1.9634064 ],\n",
       "       [0.        , 9.5453825 ],\n",
       "       [0.        , 8.683522  ],\n",
       "       [1.3917775 , 4.679689  ],\n",
       "       [2.2687955 , 0.9287144 ]], dtype=float32)"
      ]
     },
     "execution_count": 93,
     "metadata": {},
     "output_type": "execute_result"
    }
   ],
   "source": [
    "autoencoder.encoder(testx).numpy()"
   ]
  },
  {
   "cell_type": "code",
   "execution_count": 12,
   "metadata": {},
   "outputs": [],
   "source": [
    "from data_generation import *"
   ]
  },
  {
   "cell_type": "code",
   "execution_count": 6,
   "metadata": {},
   "outputs": [
    {
     "name": "stdout",
     "output_type": "stream",
     "text": [
      "Train on 1000 samples\n",
      "Epoch 1/10\n",
      "1000/1000 [==============================] - 2s 2ms/sample - loss: 1104.3991\n",
      "Epoch 2/10\n",
      "1000/1000 [==============================] - 0s 139us/sample - loss: 1104.2054\n",
      "Epoch 3/10\n",
      "1000/1000 [==============================] - 0s 133us/sample - loss: 1104.0149\n",
      "Epoch 4/10\n",
      "1000/1000 [==============================] - 0s 143us/sample - loss: 1103.8569\n",
      "Epoch 5/10\n",
      "1000/1000 [==============================] - 0s 140us/sample - loss: 1103.6451\n",
      "Epoch 6/10\n",
      "1000/1000 [==============================] - 0s 131us/sample - loss: 1103.3650\n",
      "Epoch 7/10\n",
      "1000/1000 [==============================] - 0s 126us/sample - loss: 1103.0506\n",
      "Epoch 8/10\n",
      "1000/1000 [==============================] - 0s 221us/sample - loss: 1102.4474\n",
      "Epoch 9/10\n",
      "1000/1000 [==============================] - 0s 150us/sample - loss: 1101.7606\n",
      "Epoch 10/10\n",
      "1000/1000 [==============================] - 0s 167us/sample - loss: 1101.0795\n"
     ]
    },
    {
     "data": {
      "text/plain": [
       "<tensorflow.python.keras.callbacks.History at 0x29a15dabd08>"
      ]
     },
     "execution_count": 6,
     "metadata": {},
     "output_type": "execute_result"
    }
   ],
   "source": [
    "np.random.seed(100)\n",
    "n_features=3\n",
    "n_samples=1000\n",
    "epochs=10\n",
    "X = unif_cylinder(n_samples=n_samples, radius=1, height=100, n_features=n_features)\n",
    "X = X.reshape(n_samples,n_features)\n",
    "autoencoder = Autoencoder((3,), 2)\n",
    "autoencoder.compile(optimizer='adam', loss=losses.MeanSquaredError())\n",
    "autoencoder.fit(X, X,\n",
    "                epochs=epochs,\n",
    "                shuffle=True)"
   ]
  },
  {
   "cell_type": "code",
   "execution_count": 16,
   "metadata": {},
   "outputs": [
    {
     "name": "stdout",
     "output_type": "stream",
     "text": [
      "(1000, 2)\n"
     ]
    },
    {
     "data": {
      "text/plain": [
       "<matplotlib.collections.PathCollection at 0x29a175c1208>"
      ]
     },
     "execution_count": 16,
     "metadata": {},
     "output_type": "execute_result"
    },
    {
     "data": {
      "image/png": "[encoded data removed]",
      "text/plain": [
       "<Figure size 432x288 with 1 Axes>"
      ]
     },
     "metadata": {
      "needs_background": "light"
     },
     "output_type": "display_data"
    }
   ],
   "source": [
    "X_new = autoencoder.encoder(X).numpy()\n",
    "print(X_new.shape)\n",
    "plt.scatter(X_new[:,0],X_new[:,1])"
   ]
  }
 ],
 "metadata": {
  "kernelspec": {
   "display_name": "Python 3",
   "language": "python",
   "name": "python3"
  },
  "language_info": {
   "codemirror_mode": {
    "name": "ipython",
    "version": 3
   },
   "file_extension": ".py",
   "mimetype": "text/x-python",
   "name": "python",
   "nbconvert_exporter": "python",
   "pygments_lexer": "ipython3",
   "version": "3.7.9"
  }
 },
 "nbformat": 4,
 "nbformat_minor": 4
}
