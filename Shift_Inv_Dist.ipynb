{
 "cells": [
  {
   "cell_type": "markdown",
   "id": "84a26b7f",
   "metadata": {},
   "source": [
    "DI bottleneck distance is defined as\n",
    "\n",
    "$$ \\bar{D}([A],[B]) = \\bar{d}_{bo}(\\log(A),\\log(B)) $$\n",
    "\n",
    "where $\\bar{d}_{bo}$ is the shift-invariant distance defined by Don Sheehy etc.. There are two algorithms to compute this distance:\n",
    "\n",
    "* Naive Searching: fast but may not be accurate (precision depends on number of partitions). The python code is $\\tt{DI_distance.py}$\n",
    "* Don's algorithm: accurate (may put as ground truth) but very slow. Be careful NOT to put full dataset into this algorithm. It takes a week to run mammal_euclidean_* data. The main function is $\\tt{Don_distance.py}$. Other dependent functions (written by Don) are\n",
    "    * $\\tt{main_algorithm.py}$,\n",
    "    * $\\tt{event_queue.py}$,\n",
    "    * $\\tt{bipartite_matching.py}$,\n",
    "    * $\\tt{plane_util.py}$"
   ]
  },
  {
   "cell_type": "markdown",
   "id": "2a20c542",
   "metadata": {},
   "source": [
    "##### Scaling by a factor yeilds same PD"
   ]
  },
  {
   "cell_type": "markdown",
   "id": "33fb0e2c",
   "metadata": {},
   "source": [
    "scale every direction/axis by the same factor (ex. divide by 2) , shape should look exactly the same (double check, for verification purpose) distortion if scale axis differently"
   ]
  },
  {
   "cell_type": "code",
   "execution_count": 32,
   "id": "17c00669",
   "metadata": {},
   "outputs": [
    {
     "data": {
      "image/png": "[encoded data removed]",
      "text/plain": [
       "<Figure size 432x288 with 1 Axes>"
      ]
     },
     "metadata": {
      "needs_background": "light"
     },
     "output_type": "display_data"
    }
   ],
   "source": [
    "PD(X)"
   ]
  },
  {
   "cell_type": "code",
   "execution_count": 33,
   "id": "e35a72a7",
   "metadata": {},
   "outputs": [
    {
     "data": {
      "image/png": "[encoded data removed]",
      "text/plain": [
       "<Figure size 432x288 with 1 Axes>"
      ]
     },
     "metadata": {
      "needs_background": "light"
     },
     "output_type": "display_data"
    }
   ],
   "source": [
    "PD(scale(X))"
   ]
  },
  {
   "cell_type": "code",
   "execution_count": 35,
   "id": "87c1ce89",
   "metadata": {},
   "outputs": [
    {
     "data": {
      "image/png": "[encoded data removed]",
      "text/plain": [
       "<Figure size 432x288 with 1 Axes>"
      ]
     },
     "metadata": {
      "needs_background": "light"
     },
     "output_type": "display_data"
    }
   ],
   "source": [
    "PD(normalize(X))"
   ]
  },
  {
   "cell_type": "code",
   "execution_count": 34,
   "id": "ed645bac",
   "metadata": {},
   "outputs": [],
   "source": [
    "def normalize(X):\n",
    "    return (X - tf.math.reduce_mean(X,axis=0))/tf.math.reduce_std(X,axis=0)"
   ]
  },
  {
   "cell_type": "code",
   "execution_count": 24,
   "id": "ae0832fb",
   "metadata": {},
   "outputs": [],
   "source": [
    "def scale(X):\n",
    "    return (X - tf.math.reduce_mean(X,axis=0))/tf.math.reduce_max(tf.math.reduce_std(X,axis=0))"
   ]
  },
  {
   "cell_type": "code",
   "execution_count": 20,
   "id": "83d6e84a",
   "metadata": {},
   "outputs": [],
   "source": [
    "class CustomAccuracy_norm(tf.keras.losses.Loss):\n",
    "    def __init__(self):\n",
    "        super().__init__()\n",
    "    def call(self, X, Y):\n",
    "\n",
    "                \n",
    "        X = scale(X) #*(n_samples**(1/X.shape[1]))\n",
    "        Y = scale(Y) #*(n_samples**(1/Y.shape[1]))\n",
    "        \n",
    "        fig, ax = plt.subplots()\n",
    "        \n",
    "        ax.scatter(Y.numpy()[:,0],Y.numpy()[:,1])\n",
    "        plt.show()\n",
    "\n",
    "        modelR = RipsModel(P=Y, X=X, mel=12, dim=1, card = 150)\n",
    "\n",
    "        #Compute persistence diagram\n",
    "        Zdgm = modelR.call()[1]\n",
    "        D = Zdgm.numpy()      \n",
    "        plt.figure()\n",
    "        plt.scatter(D[:,0], D[:,1], c=\"blue\", alpha=0.8)\n",
    "        Xdgm = modelR.call()[0]\n",
    "        D1 = Xdgm.numpy()\n",
    "        plt.scatter(D1[:,0], D1[:,1],c=\"orange\", alpha=0.5)\n",
    "        line = max(max(D1[:,0]),max(D[:,0]))\n",
    "        plt.plot([0,line],[0,line])\n",
    "        plt.show()\n",
    "\n",
    "\n",
    "\n",
    "        # Loss is Wasserstein distance\n",
    "\n",
    "        loss = tf.square(wasserstein_distance(Zdgm, Xdgm, order=2, internal_p=2, enable_autodiff=True))\n",
    "\n",
    "\n",
    "        return loss"
   ]
  },
  {
   "cell_type": "code",
   "execution_count": 3,
   "id": "08fe7891",
   "metadata": {},
   "outputs": [],
   "source": [
    "import numpy as np\n",
    "import gudhi as gd\n",
    "import matplotlib.pyplot as plt\n"
   ]
  },
  {
   "cell_type": "code",
   "execution_count": 4,
   "id": "2de88efe",
   "metadata": {},
   "outputs": [],
   "source": [
    "from sklearn.utils import check_random_state\n",
    "import numpy               as np\n",
    "import tensorflow_addons   as tfa\n",
    "import tensorflow          as tf\n",
    "import matplotlib.pyplot   as plt\n",
    "import pandas              as pd\n",
    "import gudhi               as gd\n",
    "import keras.backend as K\n",
    "\n",
    "from gudhi.wasserstein     import wasserstein_distance\n",
    "from mpl_toolkits.mplot3d  import Axes3D\n",
    "from sklearn.metrics       import pairwise_distances\n",
    "\n",
    "\n",
    "#import tensorflow_riemopt as manopt\n",
    "import ot #pot\n",
    "\n",
    "#import tensorflow_manopt as manopt <---- didn't work. ??\n",
    "\n",
    "#from scipy.stats import wasserstein_distance\n",
    "\n",
    "# import packages\n",
    "import scipy\n",
    "from scipy.stats import norm \n",
    "import time\n",
    "import statsmodels.api as sm\n",
    "import math\n",
    "#from scipy.cluster.vq import whiten\n",
    "from tensorflow.keras import initializers\n",
    "from sklearn.metrics import accuracy_score, precision_score, recall_score\n",
    "#from sklearn.preprocessing import normalize\n",
    "from tensorflow.keras import Sequential, layers, losses\n",
    "from tensorflow.keras.models import Model\n",
    "from data_generation import *"
   ]
  },
  {
   "cell_type": "code",
   "execution_count": 89,
   "id": "5ccf6046",
   "metadata": {},
   "outputs": [],
   "source": [
    "def myDistance(X, Y, num_partitions):\n",
    "    \n",
    "\n",
    "    ## character point\n",
    "    indX = np.argmax(X[:,1]-X[:,0])\n",
    "    indY = np.argmax(Y[:,1]-Y[:,0])\n",
    "    chaX = X[indX,:]\n",
    "    chaY = Y[indY,:]\n",
    "    \n",
    "    ## define the searching interval\n",
    "    B = 1e3 ## translation parameter. This is a bug in gudhi that they donot accept negative inputs\n",
    "    oriDist = gd.bottleneck_distance(X+B,Y+B)\n",
    "    print(\"original bottleneck distance\", oriDist)\n",
    "    upBound = max(Y[:,1])-chaX[1]+oriDist\n",
    "    lowBound = chaY[1]-max(X[:,1])-oriDist\n",
    "    \n",
    "    ## define shifts\n",
    "    shifts = np.linspace(lowBound, upBound, num_partitions)\n",
    "    shiftInv = np.append(shifts, 0)\n",
    "    bottleneckDistance = []\n",
    "    \n",
    "    ## compute bottleneck distance\n",
    "    for scale in shiftInv:\n",
    "        shiftX = scale+X\n",
    "        dist = gd.bottleneck_distance(shiftX+B, Y+B)\n",
    "        bottleneckDistance.append(dist)\n",
    "\n",
    "    minBottleneckDistance = min(bottleneckDistance)\n",
    "#     print(\"shifts\",shiftInv)\n",
    "    bestShift = shiftInv[np.array(bottleneckDistance).argmin()]\n",
    "    bestShift = bestShift.item()\n",
    "\n",
    "    print(\"dilation-invariant bottleneck distance (using log) is\", minBottleneckDistance)\n",
    "    \n",
    "    return shiftInv, bottleneckDistance, minBottleneckDistance, bestShift\n",
    "\n"
   ]
  },
  {
   "cell_type": "code",
   "execution_count": 7,
   "id": "a5ec2b64",
   "metadata": {},
   "outputs": [],
   "source": [
    "def make_swiss_roll_with_hole(n_samples=100, noise=0.0, random_state=None):\n",
    "    # https://github.com/scikit-learn/scikit-learn/blob/95119c13a/sklearn/datasets/_samples_generator.py#L1401\n",
    "    generator = check_random_state(random_state)\n",
    "    t = 1.5 * np.pi * (1 + 2 * generator.rand(1, n_samples))\n",
    "    x = t * np.cos(t)\n",
    "    y = 21 * generator.rand(1, n_samples)\n",
    "    z = t * np.sin(t)\n",
    "\n",
    "    X = np.concatenate((x, y, z))\n",
    "\n",
    "    # ranges of three coordinates:\n",
    "    # np.max(X[2,:]) = 14.136094274051034\n",
    "    # np.min(X[2,:]) = -11.040707948365629\n",
    "    # np.max(X[1,:]) = 20.996180119068676\n",
    "    # np.min(X[1,:]) = 0.004955591716158225\n",
    "    # np.max(X[0,:]) = 12.60593128332993\n",
    "    # np.min(X[0,:]) = -9.47727415039662\n",
    "\n",
    "    # mask = ((X[0, :]>-8) & (X[0, :]<0) & (X[2, :]>-4) & (X[2, :]<7) & (X[1, :]>5) & (X[1, :]<15))\n",
    "    # mask = ((X[0, :]>-10) & (X[0, :]<0) & (X[2, :]>-4) & (X[2, :]<7) & (X[1, :]>5) & (X[1, :]<15))\n",
    "    mask = ((X[0, :]>-10) & (X[0, :]<-5) & (X[2, :]>-4) & (X[2, :]<7) & (X[1, :]>5) & (X[1, :]<15))\n",
    "    X[:, mask] = None\n",
    "    \n",
    "    X += noise * generator.randn(3, n_samples)\n",
    "    X = X.T\n",
    "    t = np.squeeze(t)\n",
    "\n",
    "    # remove the nan values (related to hole):\n",
    "    hole_point_indices_3D = np.isnan(X)\n",
    "    hole_point_indices = np.asarray([(hole_point_indices_3D[i, 0] | hole_point_indices_3D[i, 1] | hole_point_indices_3D[i, 2]) for i in range(hole_point_indices_3D.shape[0])])\n",
    "    t = t[~hole_point_indices]\n",
    "    X = X[~hole_point_indices]\n",
    "\n",
    "    return X"
   ]
  },
  {
   "cell_type": "code",
   "execution_count": 26,
   "id": "65fd5c7f",
   "metadata": {},
   "outputs": [],
   "source": [
    "def Rips(DX, mel, dim, card):\n",
    "    # Parameters: DX (distance matrix), \n",
    "    #             mel (maximum edge length for Rips filtration), \n",
    "    #             dim (homological dimension), \n",
    "    #             card (number of persistence diagram points, sorted by distance-to-diagonal)\n",
    "\n",
    "    # Compute the persistence pairs with Gudhi\n",
    "    rc = gd.RipsComplex(distance_matrix=DX, max_edge_length=mel)\n",
    "    st = rc.create_simplex_tree(max_dimension=dim+1)\n",
    "    dgm = st.persistence()\n",
    "    pairs = st.persistence_pairs()\n",
    "    \n",
    "\n",
    "    # Retrieve vertices v_a and v_b by picking the ones achieving the maximal\n",
    "    # distance among all pairwise distances between the simplex vertices\n",
    "    indices, pers = [], []\n",
    "    \n",
    "    \n",
    "    for s1, s2 in pairs:\n",
    "        if len(s1) == dim+1 and len(s2) > 0:\n",
    "            l1, l2 = np.array(s1), np.array(s2)\n",
    "            i1 = [s1[v] for v in np.unravel_index(np.argmax(DX[l1,:][:,l1]),[len(s1), len(s1)])]\n",
    "            i2 = [s2[v] for v in np.unravel_index(np.argmax(DX[l2,:][:,l2]),[len(s2), len(s2)])]\n",
    "            indices += i1\n",
    "            indices += i2\n",
    "            pers.append(st.filtration(s2) - st.filtration(s1))\n",
    "    \n",
    "    # Sort points with distance-to-diagonal\n",
    "    perm = np.argsort(pers)\n",
    "    indices = list(np.reshape(indices, [-1,4])[perm][::-1,:].flatten())\n",
    "    \n",
    "    # Output indices\n",
    "    indices = indices[:4*card] + [0 for _ in range(0,max(0,4*card-len(indices)))]\n",
    "    \n",
    "    return list(np.array(indices, dtype=np.int32))\n",
    "\n",
    "class RipsModel(tf.keras.Model):\n",
    "    def __init__(self, P, X, mel=12, dim=1, card=150):\n",
    "        super(RipsModel, self).__init__()\n",
    "        self.P = P\n",
    "        self.mel = mel\n",
    "        self.dim = dim\n",
    "        self.card = card\n",
    "        self.X = X\n",
    "        \n",
    "    # Question: What is the purpose of this function?\n",
    "    def call(self):\n",
    "        m, d, c = self.mel, self.dim, self.card\n",
    "        X = self.X\n",
    "\n",
    "        #Question: Why are distances being calculcated here? why does gradient keyword show up?\n",
    "\n",
    "        # Compute distance matrix\n",
    "        DX = tfa.losses.metric_learning.pairwise_distance(X)\n",
    "        DXX = tf.reshape(DX, [1, DX.shape[0], DX.shape[1]])\n",
    "        \n",
    "        # Turn numpy function into tensorflow function\n",
    "        XRipsTF = lambda DX: tf.numpy_function(Rips, [DX, m, d, c], [tf.int32 for _ in range(4*c)])\n",
    "        \n",
    "        # Compute vertices associated to positive and negative simplices \n",
    "        # Don't compute gradient for this operation\n",
    "        Xids = tf.nest.map_structure(tf.stop_gradient, tf.map_fn(XRipsTF,DXX,dtype=[tf.int32 for _ in range(4*c)]))\n",
    "        # Get persistence diagram by simply picking the corresponding entries in the distance matrix\n",
    "        Xdgm = tf.reshape(tf.gather_nd(DX, tf.reshape(Xids, [2*c,2])), [c,2])\n",
    "\n",
    "\n",
    "        #Z=X@self.P\n",
    "        Z=self.P\n",
    "        # Compute distance matrix\n",
    "        DZ = tfa.losses.metric_learning.pairwise_distance(Z)\n",
    "        DZZ = tf.reshape(DZ, [1, DZ.shape[0], DZ.shape[1]])\n",
    "        \n",
    "        # Turn numpy function into tensorflow function\n",
    "        ZRipsTF = lambda DZ: tf.numpy_function(Rips, [DZ, m, d, c], [tf.int32 for _ in range(4*c)])\n",
    "        \n",
    "        # Compute vertices associated to positive and negative simplices \n",
    "        # Don't compute gradient for this operation\n",
    "        Zids = tf.nest.map_structure(tf.stop_gradient, tf.map_fn(ZRipsTF,DZZ,dtype=[tf.int32 for _ in range(4*c)]))\n",
    "        # Get persistence diagram by simply picking the corresponding entries in the distance matrix\n",
    "        Zdgm = tf.reshape(tf.gather_nd(DZ, tf.reshape(Zids, [2*c,2])), [c,2])\n",
    "        return (Xdgm,Zdgm)"
   ]
  },
  {
   "cell_type": "code",
   "execution_count": 88,
   "id": "f9e0f467",
   "metadata": {},
   "outputs": [],
   "source": [
    "class shift_inv_dist_zhaoyang(tf.keras.losses.Loss):\n",
    "    def __init__(self):\n",
    "        super().__init__()\n",
    "    def call(self, X, Y):\n",
    "\n",
    "        \n",
    "        X = scale(X)\n",
    "        Y = scale(Y)\n",
    "        \n",
    "        fig, ax = plt.subplots()\n",
    "        \n",
    "        #plots the 2d projection\n",
    "        ax.scatter(Y.numpy()[:,0],Y.numpy()[:,1])\n",
    "        plt.show()\n",
    "        \n",
    "        modelR = RipsModel(P=Y, X=X, mel=12, dim=1, card = 150)\n",
    "        \n",
    "        \n",
    "\n",
    "        #Compute persistence diagram\n",
    "        Zdgm = modelR.call()[1]\n",
    "        Y_pd = Zdgm #.numpy()      \n",
    "\n",
    "        Xdgm = modelR.call()[0]\n",
    "        X_pd = Xdgm #.numpy()\n",
    "\n",
    "        \n",
    "        #shifting the data so its >=0 so we can take the log \n",
    "\n",
    "        X_pd += 0.1 #tf.math.abs(tf.math.reduce_min(X_pd)) #ASK PROFS ABOUT THIS 0.1 shift okay?\n",
    "        Y_pd += 0.1 #tf.math.abs(tf.math.reduce_min(Y_pd)) \n",
    "\n",
    "        X_pd = tf.math.log(X_pd) \n",
    "        Y_pd = tf.math.log(Y_pd)\n",
    "        \n",
    "        #check for issues with numpy vs tensorflow            \n",
    "        shiftInv, bottleneckDistance, minBottleneckDistance, bestShift = myDistance(Y_pd, X_pd, 100)\n",
    "        \n",
    "        \n",
    "        #best shift\n",
    "        shiftedY = Y_pd + bestShift #1# + bestShift #fix this \n",
    "        \n",
    "        D = X_pd.numpy()\n",
    "        D1 = shiftedY.numpy()\n",
    "        plt.figure()\n",
    "        plt.scatter(D[:,0], D[:,1], c=\"blue\", alpha=0.8)\n",
    "        plt.scatter(D1[:,0], D1[:,1],c=\"orange\", alpha=0.5)\n",
    "#         line = max(max(D1[:,0]),max(D[:,0]))\n",
    "#         plt.plot([0,line],[0,line])\n",
    "        plt.show()\n",
    "\n",
    "\n",
    "        # Loss is Wasserstein distance\n",
    "        loss = tf.square(wasserstein_distance(shiftedY, X_pd, order=2, internal_p=2, enable_autodiff=True))\n",
    "        \n",
    "        #Loss is bottleneck distance\n",
    "        #B = 1e3\n",
    "        #loss = gd.bottleneck_distance(shiftedY, X_pd, enable_autodiff=True) #wants numpy arguments, maybe try later \n",
    "            \n",
    "\n",
    "        return loss"
   ]
  },
  {
   "cell_type": "code",
   "execution_count": 63,
   "id": "d7478fb5",
   "metadata": {},
   "outputs": [],
   "source": [
    "class shift_inv_dist(tf.keras.losses.Loss):\n",
    "    def __init__(self):\n",
    "        super().__init__()\n",
    "    def call(self, X, Y):\n",
    "        \n",
    "        #X is the original data dim3\n",
    "        #Y is the projected data dim2 \n",
    "      \n",
    "        fig, ax = plt.subplots()\n",
    "        ax.scatter(Y.numpy()[:,0],Y.numpy()[:,1])\n",
    "        plt.show()\n",
    "        \n",
    "        #X and Y are tensors\n",
    "        #remember mel\n",
    "        \n",
    "        print(\"X before\",X)\n",
    "        print(\"Y before\",Y)\n",
    "        \n",
    "        \n",
    "        #This is in the wrong place --> do it on pd not on data\n",
    "        X += tf.math.abs(tf.math.reduce_min(X)) #normalize(X) \n",
    "        Y += tf.math.abs(tf.math.reduce_min(Y)) #normalize(Y) \n",
    "        \n",
    "        \n",
    "        X = tf.math.log(X)\n",
    "        Y = tf.math.log(Y)\n",
    "\n",
    "#         X = X.numpy()\n",
    "#         Y = Y.numpy() \n",
    "#         X += np.abs(np.min(X))\n",
    "#         Y += np.abs(np.min(Y))\n",
    "        \n",
    "#         X = np.log(X)\n",
    "#         Y = np.log(Y)\n",
    "        \n",
    "        \n",
    "        st = gd.RipsComplex(points = X, \n",
    "                    max_edge_length = 12).create_simplex_tree(max_dimension=2)\n",
    "        st.persistence() #computes persistence intervals\n",
    "\n",
    "        #extract persistence intervals for specified dim\n",
    "        pd_X = np.array(st.persistence_intervals_in_dimension(1), dtype=np.float32) #original data\n",
    "        \n",
    "        st = gd.RipsComplex(points = Y, \n",
    "                    max_edge_length = 12).create_simplex_tree(max_dimension=2)\n",
    "        st.persistence() #computes persistence intervals\n",
    "\n",
    "        #extract persistence intervals for specified dim\n",
    "        pd_Y = np.array(st.persistence_intervals_in_dimension(1), dtype=np.float32) #original data\n",
    "        \n",
    "        #==================\n",
    "        #Find best shift\n",
    "        #==================\n",
    "        \n",
    "        #we want to shift the projected data\n",
    "        \n",
    "            \n",
    "        shiftInv, bottleneckDistance, minBottleneckDistance, bestShift = myDistance(pd_Y, pd_X, 100)\n",
    "        \n",
    "        shiftedY = pd_Y + bestShift\n",
    "#         st = gd.RipsComplex(points = shiftedY, \n",
    "#                     max_edge_length = 12).create_simplex_tree(max_dimension=2)\n",
    "#         st.persistence() #computes persistence intervals\n",
    "        \n",
    "#                 #extract persistence intervals for specified dim\n",
    "#         pd_Y_best = np.array(st.persistence_intervals_in_dimension(1), dtype=np.float32) #original data\n",
    "        \n",
    "        D = pd_X\n",
    "        D1 = shiftedY\n",
    "        \n",
    "        print(\"shiftedY\",shiftedY)\n",
    "        \n",
    "        plt.figure()   \n",
    "        plt.scatter(D[:,0], D[:,1], c=\"blue\", alpha=0.8)\n",
    "        plt.scatter(D1[:,0], D1[:,1],c=\"orange\", alpha=0.5)\n",
    "        #line = max(max(D1[:,0]),max(D[:,0]))\n",
    "        #plt.plot([0,line],[0,line])\n",
    "        plt.show()\n",
    "        \n",
    "\n",
    "        loss = minBottleneckDistance\n",
    "        loss = tf.convert_to_tensor(loss)\n",
    "        \n",
    "        print(loss)\n",
    "\n",
    "        return loss"
   ]
  },
  {
   "cell_type": "code",
   "execution_count": 91,
   "id": "eccf3c26",
   "metadata": {},
   "outputs": [
    {
     "data": {
      "image/png": "[encoded data removed]",
      "text/plain": [
       "<Figure size 432x288 with 1 Axes>"
      ]
     },
     "metadata": {
      "needs_background": "light"
     },
     "output_type": "display_data"
    },
    {
     "name": "stdout",
     "output_type": "stream",
     "text": [
      "original bottleneck distance 0.314605712890625\n",
      "dilation-invariant bottleneck distance (using log) is 0.228546142578125\n"
     ]
    },
    {
     "data": {
      "image/png": "[encoded data removed]",
      "text/plain": [
       "<Figure size 432x288 with 1 Axes>"
      ]
     },
     "metadata": {
      "needs_background": "light"
     },
     "output_type": "display_data"
    },
    {
     "data": {
      "image/png": "[encoded data removed]",
      "text/plain": [
       "<Figure size 432x288 with 1 Axes>"
      ]
     },
     "metadata": {
      "needs_background": "light"
     },
     "output_type": "display_data"
    },
    {
     "name": "stdout",
     "output_type": "stream",
     "text": [
      "original bottleneck distance 0.314605712890625\n",
      "dilation-invariant bottleneck distance (using log) is 0.25091552734375\n"
     ]
    },
    {
     "data": {
      "image/png": "[encoded data removed]",
      "text/plain": [
       "<Figure size 432x288 with 1 Axes>"
      ]
     },
     "metadata": {
      "needs_background": "light"
     },
     "output_type": "display_data"
    }
   ],
   "source": [
    "np.random.seed(1)\n",
    "swiss = make_swiss_roll_with_hole(n_samples = 300)\n",
    "swiss = np.array(swiss, dtype = np.float32)\n",
    "X = swiss\n",
    "\n",
    "lr = 0.1\n",
    "n_samples = 300\n",
    "lr_decay = tf.keras.optimizers.schedules.ExponentialDecay(\n",
    "                initial_learning_rate=lr,\n",
    "                decay_steps=100000,\n",
    "                decay_rate=0.96,\n",
    "                staircase=True)\n",
    "activation = \"sigmoid\"\n",
    "layer = 2\n",
    "initializer = initializers.GlorotNormal(seed=1)\n",
    "\n",
    "model = tf.keras.models.Sequential([\n",
    "        tf.keras.layers.Flatten(input_shape=(3, )),\n",
    "        tf.keras.layers.Dense(3, activation=activation,kernel_initializer=initializer),\n",
    "        tf.keras.layers.Dense(3, activation=activation,kernel_initializer=initializer),\n",
    "        tf.keras.layers.Dense(2)\n",
    "        ])\n",
    "\n",
    "                \n",
    "model.compile(loss=shift_inv_dist_zhaoyang(),optimizer = tf.keras.optimizers.Adam(\n",
    "    learning_rate=lr_decay, name='Adam'),run_eagerly=True)\n",
    "history = model.fit(X, X,epochs=2,batch_size=n_samples,verbose = 0) "
   ]
  },
  {
   "cell_type": "code",
   "execution_count": 9,
   "id": "1eb5831c",
   "metadata": {},
   "outputs": [
    {
     "name": "stdout",
     "output_type": "stream",
     "text": [
      "original bottleneck distance 6.385148351220664\n",
      "dilation-invariant bottleneck distance (using log) is 3.251144030742807\n"
     ]
    },
    {
     "data": {
      "text/plain": [
       "<matplotlib.legend.Legend at 0x1268bf250>"
      ]
     },
     "execution_count": 9,
     "metadata": {},
     "output_type": "execute_result"
    },
    {
     "data": {
      "image/png": "[encoded data removed]",
      "text/plain": [
       "<Figure size 432x288 with 1 Axes>"
      ]
     },
     "metadata": {
      "needs_background": "light"
     },
     "output_type": "display_data"
    }
   ],
   "source": [
    "#load data\n",
    "\n",
    "#file_list = ['activity_net_euclidean_cosine.npz','activity_net_euclidean.npz']\n",
    "#file_list = ['activity_net_euclidean_expmap_poincare.npz','activity_net_poincare.npz']\n",
    "file_list = ['mammals_euclidean_cosine.npz','mammals_euclidean.npz']\n",
    "#file_list = ['mammals_euclidean_expmap_poincare.npz','mammals_poincare.npz']\n",
    "\n",
    "dist_list = [np.load(u)['arr_0'] for u in file_list]\n",
    "\n",
    "X = dist_list[0][0]\n",
    "Y = dist_list[1][0]\n",
    "\n",
    "X = np.delete(X, -1, axis = 1)\n",
    "Y = np.delete(Y, -1, axis = 1)\n",
    "\n",
    "# ## avoid -inf in log map\n",
    "ep = 1e-10\n",
    "X = np.log(X+ep)\n",
    "Y = np.log(Y+ep)\n",
    "\n",
    "shiftInv, bottleneckDistance, minBottleneckDistance, bestShift = myDistance(X, Y, 100)\n",
    "\n",
    "plt.figure()\n",
    "label = ['different shifts','no shift','optimal shift']\n",
    "plt.xlabel(\"log shift parameters\")\n",
    "plt.ylabel(\"bottleneck distances\")\n",
    "plt.plot(shiftInv[0:len(shiftInv)-1], bottleneckDistance[0:len(bottleneckDistance)-1])\n",
    "# the last element corresponds to no dilation\n",
    "plt.axhline(y=bottleneckDistance[-1], color='r', linestyle='-.')\n",
    "plt.axhline(y=minBottleneckDistance, color='g', linestyle='-')\n",
    "plt.legend(label, loc='best')"
   ]
  },
  {
   "cell_type": "code",
   "execution_count": 8,
   "id": "4ac9a209",
   "metadata": {},
   "outputs": [
    {
     "data": {
      "image/png": "[encoded data removed]",
      "text/plain": [
       "<Figure size 288x288 with 1 Axes>"
      ]
     },
     "metadata": {
      "needs_background": "light"
     },
     "output_type": "display_data"
    }
   ],
   "source": [
    "np.random.seed(1)\n",
    "swiss = make_swiss_roll_with_hole(n_samples = 300)\n",
    "swiss = np.array(swiss, dtype = np.float32)\n",
    "plot(swiss)\n",
    "#swiss += np.abs(swiss.min())\n"
   ]
  },
  {
   "cell_type": "code",
   "execution_count": 9,
   "id": "4595c840",
   "metadata": {},
   "outputs": [
    {
     "ename": "NameError",
     "evalue": "name 'RipsModel' is not defined",
     "output_type": "error",
     "traceback": [
      "\u001b[0;31m---------------------------------------------------------------------------\u001b[0m",
      "\u001b[0;31mNameError\u001b[0m                                 Traceback (most recent call last)",
      "Input \u001b[0;32mIn [9]\u001b[0m, in \u001b[0;36m<module>\u001b[0;34m\u001b[0m\n\u001b[0;32m----> 1\u001b[0m \u001b[43mPD\u001b[49m\u001b[43m(\u001b[49m\u001b[43mswiss\u001b[49m\u001b[43m)\u001b[49m\n",
      "Input \u001b[0;32mIn [7]\u001b[0m, in \u001b[0;36mPD\u001b[0;34m(X, mel)\u001b[0m\n\u001b[1;32m      1\u001b[0m \u001b[38;5;28;01mdef\u001b[39;00m \u001b[38;5;21mPD\u001b[39m(X,mel\u001b[38;5;241m=\u001b[39m\u001b[38;5;241m30\u001b[39m):\n\u001b[1;32m      2\u001b[0m     X \u001b[38;5;241m=\u001b[39m np\u001b[38;5;241m.\u001b[39marray(X, dtype \u001b[38;5;241m=\u001b[39m np\u001b[38;5;241m.\u001b[39mfloat32) \n\u001b[0;32m----> 3\u001b[0m     modelR \u001b[38;5;241m=\u001b[39m \u001b[43mRipsModel\u001b[49m(P\u001b[38;5;241m=\u001b[39mX,X\u001b[38;5;241m=\u001b[39mX, mel\u001b[38;5;241m=\u001b[39mmel, dim\u001b[38;5;241m=\u001b[39m\u001b[38;5;241m1\u001b[39m, card \u001b[38;5;241m=\u001b[39m \u001b[38;5;241m150\u001b[39m)\n\u001b[1;32m      4\u001b[0m     Xdgm \u001b[38;5;241m=\u001b[39m modelR\u001b[38;5;241m.\u001b[39mcall()[\u001b[38;5;241m0\u001b[39m]\n\u001b[1;32m      5\u001b[0m     plt\u001b[38;5;241m.\u001b[39mscatter(Xdgm\u001b[38;5;241m.\u001b[39mnumpy()[:,\u001b[38;5;241m0\u001b[39m],Xdgm\u001b[38;5;241m.\u001b[39mnumpy()[:,\u001b[38;5;241m1\u001b[39m],alpha\u001b[38;5;241m=\u001b[39m\u001b[38;5;241m0.5\u001b[39m)\n",
      "\u001b[0;31mNameError\u001b[0m: name 'RipsModel' is not defined"
     ]
    }
   ],
   "source": [
    "PD(swiss)"
   ]
  },
  {
   "cell_type": "code",
   "execution_count": 31,
   "id": "1315f1b1",
   "metadata": {},
   "outputs": [],
   "source": [
    "def PD(X,mel=30):\n",
    "    X = np.array(X, dtype = np.float32) \n",
    "    modelR = RipsModel(P=X,X=X, mel=mel, dim=1, card = 150)\n",
    "    Xdgm = modelR.call()[0]\n",
    "    plt.scatter(Xdgm.numpy()[:,0],Xdgm.numpy()[:,1],alpha=0.5)\n",
    "    return \n",
    "\n",
    "def plot(X,dim = 3,deg=45):\n",
    "    \n",
    "    if dim==3:\n",
    "        fig = plt.figure(figsize=plt.figaspect(1))\n",
    "        ax=fig.add_subplot(projection='3d')\n",
    "        ax.scatter(X[:,0],X[:,1],X[:,2])\n",
    "        ax.view_init(0,deg)\n",
    "        \n",
    "    return \n"
   ]
  },
  {
   "cell_type": "code",
   "execution_count": 43,
   "id": "ea7e5ff0",
   "metadata": {},
   "outputs": [],
   "source": [
    "#load data\n",
    "\n",
    "#file_list = ['activity_net_euclidean_cosine.npz','activity_net_euclidean.npz']\n",
    "#file_list = ['activity_net_euclidean_expmap_poincare.npz','activity_net_poincare.npz']\n",
    "file_list = ['mammals_euclidean_cosine.npz','mammals_euclidean.npz']\n",
    "#file_list = ['mammals_euclidean_expmap_poincare.npz','mammals_poincare.npz']\n",
    "\n",
    "dist_list = [np.load(u)['arr_0'] for u in file_list]\n",
    "\n",
    "X = dist_list[0][0]\n",
    "Y = dist_list[1][0]\n",
    "\n",
    "X = np.delete(X, -1, axis = 1)\n",
    "Y = np.delete(Y, -1, axis = 1)\n",
    "\n",
    "# ## avoid -inf in log map\n",
    "ep = 1e-10\n",
    "X = np.log(X+ep)\n",
    "Y = np.log(Y+ep)"
   ]
  }
 ],
 "metadata": {
  "kernelspec": {
   "display_name": "Python 3 (ipykernel)",
   "language": "python",
   "name": "python3"
  },
  "language_info": {
   "codemirror_mode": {
    "name": "ipython",
    "version": 3
   },
   "file_extension": ".py",
   "mimetype": "text/x-python",
   "name": "python",
   "nbconvert_exporter": "python",
   "pygments_lexer": "ipython3",
   "version": "3.8.12"
  }
 },
 "nbformat": 4,
 "nbformat_minor": 5
}
