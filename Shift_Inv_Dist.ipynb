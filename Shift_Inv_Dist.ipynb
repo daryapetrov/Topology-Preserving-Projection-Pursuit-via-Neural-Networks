{
 "cells": [
  {
   "cell_type": "markdown",
   "id": "2dab16b7",
   "metadata": {},
   "source": [
    "DI bottleneck distance is defined as\n",
    "\n",
    "$$ \\bar{D}([A],[B]) = \\bar{d}_{bo}(\\log(A),\\log(B)) $$\n",
    "\n",
    "where $\\bar{d}_{bo}$ is the shift-invariant distance defined by Don Sheehy etc.. There are two algorithms to compute this distance:\n",
    "\n",
    "* Naive Searching: fast but may not be accurate (precision depends on number of partitions). The python code is $\\tt{DI_distance.py}$\n",
    "* Don's algorithm: accurate (may put as ground truth) but very slow. Be careful NOT to put full dataset into this algorithm. It takes a week to run mammal_euclidean_* data. The main function is $\\tt{Don_distance.py}$. Other dependent functions (written by Don) are\n",
    "    * $\\tt{main_algorithm.py}$,\n",
    "    * $\\tt{event_queue.py}$,\n",
    "    * $\\tt{bipartite_matching.py}$,\n",
    "    * $\\tt{plane_util.py}$"
   ]
  },
  {
   "cell_type": "code",
   "execution_count": 1,
   "id": "c2ebb582",
   "metadata": {},
   "outputs": [],
   "source": [
    "import numpy as np\n",
    "import gudhi as gd\n",
    "import matplotlib.pyplot as plt\n"
   ]
  },
  {
   "cell_type": "code",
   "execution_count": 2,
   "id": "dc788167",
   "metadata": {},
   "outputs": [],
   "source": [
    "from sklearn.utils import check_random_state\n",
    "import numpy               as np\n",
    "import tensorflow_addons   as tfa\n",
    "import tensorflow          as tf\n",
    "import matplotlib.pyplot   as plt\n",
    "import pandas              as pd\n",
    "import gudhi               as gd\n",
    "import keras.backend as K\n",
    "\n",
    "from gudhi.wasserstein     import wasserstein_distance\n",
    "from mpl_toolkits.mplot3d  import Axes3D\n",
    "from sklearn.metrics       import pairwise_distances\n",
    "\n",
    "\n",
    "#import tensorflow_riemopt as manopt\n",
    "import ot #pot\n",
    "\n",
    "#import tensorflow_manopt as manopt <---- didn't work. ??\n",
    "\n",
    "#from scipy.stats import wasserstein_distance\n",
    "\n",
    "# import packages\n",
    "import scipy\n",
    "from scipy.stats import norm \n",
    "import time\n",
    "import statsmodels.api as sm\n",
    "import math\n",
    "#from scipy.cluster.vq import whiten\n",
    "from tensorflow.keras import initializers\n",
    "from sklearn.metrics import accuracy_score, precision_score, recall_score\n",
    "#from sklearn.preprocessing import normalize\n",
    "from tensorflow.keras import Sequential, layers, losses\n",
    "from tensorflow.keras.models import Model\n",
    "from data_generation import *"
   ]
  },
  {
   "cell_type": "code",
   "execution_count": 3,
   "id": "38b4b81d",
   "metadata": {},
   "outputs": [],
   "source": [
    "def myDistance(X, Y, num_partitions):\n",
    "    \n",
    "    ## character point\n",
    "    indX = np.argmax(X[:,1]-X[:,0])\n",
    "    indY = np.argmax(Y[:,1]-Y[:,0])\n",
    "    chaX = X[indX,:]\n",
    "    chaY = Y[indY,:]\n",
    "    \n",
    "    ## define the searching interval\n",
    "    B = 1e3 ## translation parameter. This is a bug in gudhi that they donot accept negative inputs\n",
    "    oriDist = gd.bottleneck_distance(X+B,Y+B)\n",
    "    print(\"original bottleneck distance\", oriDist)\n",
    "    upBound = max(Y[:,1])-chaX[1]+oriDist\n",
    "    lowBound = chaY[1]-max(X[:,1])-oriDist\n",
    "    \n",
    "    ## define shifts\n",
    "    shifts = np.linspace(lowBound, upBound, num_partitions)\n",
    "    shiftInv = np.append(shifts, 0)\n",
    "    bottleneckDistance = []\n",
    "    \n",
    "    ## compute bottleneck distance\n",
    "    for scale in shiftInv:\n",
    "        shiftX = scale+X\n",
    "        dist = gd.bottleneck_distance(shiftX+B, Y+B)\n",
    "        bottleneckDistance.append(dist)\n",
    "\n",
    "    minBottleneckDistance = min(bottleneckDistance)\n",
    "    bestShift = shiftInv[np.array(bottleneckDistance).argmin()]\n",
    "    print(\"dilation-invariant bottleneck distance (using log) is\", minBottleneckDistance)\n",
    "    \n",
    "    return shiftInv, bottleneckDistance, minBottleneckDistance, bestShift\n",
    "\n"
   ]
  },
  {
   "cell_type": "code",
   "execution_count": 4,
   "id": "50fc5a93",
   "metadata": {},
   "outputs": [],
   "source": [
    "def make_swiss_roll_with_hole(n_samples=100, noise=0.0, random_state=None):\n",
    "    # https://github.com/scikit-learn/scikit-learn/blob/95119c13a/sklearn/datasets/_samples_generator.py#L1401\n",
    "    generator = check_random_state(random_state)\n",
    "    t = 1.5 * np.pi * (1 + 2 * generator.rand(1, n_samples))\n",
    "    x = t * np.cos(t)\n",
    "    y = 21 * generator.rand(1, n_samples)\n",
    "    z = t * np.sin(t)\n",
    "\n",
    "    X = np.concatenate((x, y, z))\n",
    "\n",
    "    # ranges of three coordinates:\n",
    "    # np.max(X[2,:]) = 14.136094274051034\n",
    "    # np.min(X[2,:]) = -11.040707948365629\n",
    "    # np.max(X[1,:]) = 20.996180119068676\n",
    "    # np.min(X[1,:]) = 0.004955591716158225\n",
    "    # np.max(X[0,:]) = 12.60593128332993\n",
    "    # np.min(X[0,:]) = -9.47727415039662\n",
    "\n",
    "    # mask = ((X[0, :]>-8) & (X[0, :]<0) & (X[2, :]>-4) & (X[2, :]<7) & (X[1, :]>5) & (X[1, :]<15))\n",
    "    # mask = ((X[0, :]>-10) & (X[0, :]<0) & (X[2, :]>-4) & (X[2, :]<7) & (X[1, :]>5) & (X[1, :]<15))\n",
    "    mask = ((X[0, :]>-10) & (X[0, :]<-5) & (X[2, :]>-4) & (X[2, :]<7) & (X[1, :]>5) & (X[1, :]<15))\n",
    "    X[:, mask] = None\n",
    "    \n",
    "    X += noise * generator.randn(3, n_samples)\n",
    "    X = X.T\n",
    "    t = np.squeeze(t)\n",
    "\n",
    "    # remove the nan values (related to hole):\n",
    "    hole_point_indices_3D = np.isnan(X)\n",
    "    hole_point_indices = np.asarray([(hole_point_indices_3D[i, 0] | hole_point_indices_3D[i, 1] | hole_point_indices_3D[i, 2]) for i in range(hole_point_indices_3D.shape[0])])\n",
    "    t = t[~hole_point_indices]\n",
    "    X = X[~hole_point_indices]\n",
    "\n",
    "    return X"
   ]
  },
  {
   "cell_type": "code",
   "execution_count": 39,
   "id": "5bbd6a76",
   "metadata": {},
   "outputs": [],
   "source": [
    "def Rips(DX, mel, dim, card):\n",
    "    # Parameters: DX (distance matrix), \n",
    "    #             mel (maximum edge length for Rips filtration), \n",
    "    #             dim (homological dimension), \n",
    "    #             card (number of persistence diagram points, sorted by distance-to-diagonal)\n",
    "\n",
    "    # Compute the persistence pairs with Gudhi\n",
    "    rc = gd.RipsComplex(distance_matrix=DX, max_edge_length=mel)\n",
    "    st = rc.create_simplex_tree(max_dimension=dim+1)\n",
    "    dgm = st.persistence()\n",
    "    pairs = st.persistence_pairs()\n",
    "    \n",
    "\n",
    "    # Retrieve vertices v_a and v_b by picking the ones achieving the maximal\n",
    "    # distance among all pairwise distances between the simplex vertices\n",
    "    indices, pers = [], []\n",
    "    \n",
    "    \n",
    "    for s1, s2 in pairs:\n",
    "        if len(s1) == dim+1 and len(s2) > 0:\n",
    "            l1, l2 = np.array(s1), np.array(s2)\n",
    "            i1 = [s1[v] for v in np.unravel_index(np.argmax(DX[l1,:][:,l1]),[len(s1), len(s1)])]\n",
    "            i2 = [s2[v] for v in np.unravel_index(np.argmax(DX[l2,:][:,l2]),[len(s2), len(s2)])]\n",
    "            indices += i1\n",
    "            indices += i2\n",
    "            pers.append(st.filtration(s2) - st.filtration(s1))\n",
    "    \n",
    "    # Sort points with distance-to-diagonal\n",
    "    perm = np.argsort(pers)\n",
    "    indices = list(np.reshape(indices, [-1,4])[perm][::-1,:].flatten())\n",
    "    \n",
    "    # Output indices\n",
    "    indices = indices[:4*card] + [0 for _ in range(0,max(0,4*card-len(indices)))]\n",
    "    \n",
    "    return list(np.array(indices, dtype=np.int32))\n",
    "\n",
    "class RipsModel(tf.keras.Model):\n",
    "    def __init__(self, P, X, mel=12, dim=1, card=150):\n",
    "        super(RipsModel, self).__init__()\n",
    "        self.P = P\n",
    "        self.mel = mel\n",
    "        self.dim = dim\n",
    "        self.card = card\n",
    "        self.X = X\n",
    "        \n",
    "    # Question: What is the purpose of this function?\n",
    "    def call(self):\n",
    "        m, d, c = self.mel, self.dim, self.card\n",
    "        X = self.X\n",
    "\n",
    "        #Question: Why are distances being calculcated here? why does gradient keyword show up?\n",
    "\n",
    "        # Compute distance matrix\n",
    "        DX = tfa.losses.metric_learning.pairwise_distance(X)\n",
    "        DXX = tf.reshape(DX, [1, DX.shape[0], DX.shape[1]])\n",
    "        \n",
    "        # Turn numpy function into tensorflow function\n",
    "        XRipsTF = lambda DX: tf.numpy_function(Rips, [DX, m, d, c], [tf.int32 for _ in range(4*c)])\n",
    "        \n",
    "        # Compute vertices associated to positive and negative simplices \n",
    "        # Don't compute gradient for this operation\n",
    "        Xids = tf.nest.map_structure(tf.stop_gradient, tf.map_fn(XRipsTF,DXX,dtype=[tf.int32 for _ in range(4*c)]))\n",
    "        # Get persistence diagram by simply picking the corresponding entries in the distance matrix\n",
    "        Xdgm = tf.reshape(tf.gather_nd(DX, tf.reshape(Xids, [2*c,2])), [c,2])\n",
    "\n",
    "\n",
    "        #Z=X@self.P\n",
    "        Z=self.P\n",
    "        # Compute distance matrix\n",
    "        DZ = tfa.losses.metric_learning.pairwise_distance(Z)\n",
    "        DZZ = tf.reshape(DZ, [1, DZ.shape[0], DZ.shape[1]])\n",
    "        \n",
    "        # Turn numpy function into tensorflow function\n",
    "        ZRipsTF = lambda DZ: tf.numpy_function(Rips, [DZ, m, d, c], [tf.int32 for _ in range(4*c)])\n",
    "        \n",
    "        # Compute vertices associated to positive and negative simplices \n",
    "        # Don't compute gradient for this operation\n",
    "        Zids = tf.nest.map_structure(tf.stop_gradient, tf.map_fn(ZRipsTF,DZZ,dtype=[tf.int32 for _ in range(4*c)]))\n",
    "        # Get persistence diagram by simply picking the corresponding entries in the distance matrix\n",
    "        Zdgm = tf.reshape(tf.gather_nd(DZ, tf.reshape(Zids, [2*c,2])), [c,2])\n",
    "        return (Xdgm,Zdgm)"
   ]
  },
  {
   "cell_type": "code",
   "execution_count": 27,
   "id": "2ac94183",
   "metadata": {},
   "outputs": [],
   "source": [
    "class shift_inv_dist(tf.keras.losses.Loss):\n",
    "    def __init__(self):\n",
    "        super().__init__()\n",
    "    def call(self, X, Y):\n",
    "        \n",
    "        #X is the original data dim3\n",
    "        #Y is the projected data dim2 \n",
    "      \n",
    "        fig, ax = plt.subplots()\n",
    "        ax.scatter(Y.numpy()[:,0],Y.numpy()[:,1])\n",
    "        plt.show()\n",
    "        \n",
    "        #X and Y are tensors\n",
    "        #remember mel\n",
    "        \n",
    "        X += tf.math.abs(tf.math.reduce_min(X)) #normalize(X) \n",
    "        Y += tf.math.abs(tf.math.reduce_min(Y)) #normalize(Y) \n",
    "        \n",
    "        \n",
    "        X = tf.math.log(X)\n",
    "        Y = tf.math.log(Y)\n",
    "\n",
    "#         X = X.numpy()\n",
    "#         Y = Y.numpy() \n",
    "#         X += np.abs(np.min(X))\n",
    "#         Y += np.abs(np.min(Y))\n",
    "        \n",
    "#         X = np.log(X)\n",
    "#         Y = np.log(Y)\n",
    "        \n",
    "        \n",
    "        st = gd.RipsComplex(points = X, \n",
    "                    max_edge_length = 12).create_simplex_tree(max_dimension=2)\n",
    "        st.persistence() #computes persistence intervals\n",
    "\n",
    "        #extract persistence intervals for specified dim\n",
    "        pd_X = np.array(st.persistence_intervals_in_dimension(1), dtype=np.float32) #original data\n",
    "        \n",
    "        st = gd.RipsComplex(points = Y, \n",
    "                    max_edge_length = 12).create_simplex_tree(max_dimension=2)\n",
    "        st.persistence() #computes persistence intervals\n",
    "\n",
    "        #extract persistence intervals for specified dim\n",
    "        pd_Y = np.array(st.persistence_intervals_in_dimension(1), dtype=np.float32) #original data\n",
    "        \n",
    "        #==================\n",
    "        #Find best shift\n",
    "        #==================\n",
    "        \n",
    "        #we want to shift the projected data\n",
    "        \n",
    "            \n",
    "        shiftInv, bottleneckDistance, minBottleneckDistance, bestShift = myDistance(pd_Y, pd_X, 100)\n",
    "        \n",
    "        shiftedY = pd_Y + bestShift\n",
    "#         st = gd.RipsComplex(points = shiftedY, \n",
    "#                     max_edge_length = 12).create_simplex_tree(max_dimension=2)\n",
    "#         st.persistence() #computes persistence intervals\n",
    "        \n",
    "#                 #extract persistence intervals for specified dim\n",
    "#         pd_Y_best = np.array(st.persistence_intervals_in_dimension(1), dtype=np.float32) #original data\n",
    "        \n",
    "        D = pd_X\n",
    "        D1 = shiftedY\n",
    "        \n",
    "        print(\"shiftedY\",shiftedY)\n",
    "        \n",
    "        plt.figure()   \n",
    "        plt.scatter(D[:,0], D[:,1], c=\"blue\", alpha=0.8)\n",
    "        plt.scatter(D1[:,0], D1[:,1],c=\"orange\", alpha=0.5)\n",
    "        line = max(max(D1[:,0]),max(D[:,0]))\n",
    "        plt.plot([0,line],[0,line])\n",
    "        plt.show()\n",
    "        \n",
    "\n",
    "        loss = minBottleneckDistance\n",
    "        loss = tf.convert_to_tensor(loss)\n",
    "        \n",
    "        print(loss)\n",
    "\n",
    "        return loss"
   ]
  },
  {
   "cell_type": "code",
   "execution_count": 30,
   "id": "94c8794e",
   "metadata": {},
   "outputs": [
    {
     "data": {
      "image/png": "[encoded data removed]",
      "text/plain": [
       "<Figure size 432x288 with 1 Axes>"
      ]
     },
     "metadata": {
      "needs_background": "light"
     },
     "output_type": "display_data"
    },
    {
     "name": "stdout",
     "output_type": "stream",
     "text": [
      "original bottleneck distance 0.2357177734375\n",
      "dilation-invariant bottleneck distance (using log) is 0.19757080078125\n",
      "shiftedY [[0.77898633 0.7789939 ]\n",
      " [0.7802184  0.7802262 ]\n",
      " [0.78070647 0.78071404]\n",
      " [0.7834231  0.78464776]\n",
      " [0.78781503 0.7883647 ]\n",
      " [0.79081714 0.7913996 ]\n",
      " [0.79305136 0.79346627]\n",
      " [0.80469716 0.8082334 ]\n",
      " [0.92835915 0.9932636 ]\n",
      " [1.0198172  1.033129  ]\n",
      " [1.0111991  1.0520895 ]\n",
      " [1.0754927  1.0949979 ]\n",
      " [1.0932068  1.0967703 ]\n",
      " [1.0449874  1.1248502 ]]\n"
     ]
    },
    {
     "data": {
      "image/png": "[encoded data removed]",
      "text/plain": [
       "<Figure size 432x288 with 1 Axes>"
      ]
     },
     "metadata": {
      "needs_background": "light"
     },
     "output_type": "display_data"
    },
    {
     "name": "stdout",
     "output_type": "stream",
     "text": [
      "tf.Tensor(0.1975708, shape=(), dtype=float32)\n"
     ]
    },
    {
     "ename": "ValueError",
     "evalue": "No gradients provided for any variable: (['dense_36/kernel:0', 'dense_36/bias:0', 'dense_37/kernel:0', 'dense_37/bias:0', 'dense_38/kernel:0', 'dense_38/bias:0'],). Provided `grads_and_vars` is ((None, <tf.Variable 'dense_36/kernel:0' shape=(3, 3) dtype=float32, numpy=\narray([[ 0.8028116 , -0.6006002 ,  0.5280424 ],\n       [-0.24755795, -0.4338669 ,  0.15821561],\n       [-0.8441816 , -0.30583236, -0.24933997]], dtype=float32)>), (None, <tf.Variable 'dense_36/bias:0' shape=(3,) dtype=float32, numpy=array([0., 0., 0.], dtype=float32)>), (None, <tf.Variable 'dense_37/kernel:0' shape=(3, 3) dtype=float32, numpy=\narray([[-0.2938483 ,  0.5738218 ,  0.13579103],\n       [-0.9736449 , -0.5466163 ,  0.41925633],\n       [-0.08921768, -0.30201662, -0.2585532 ]], dtype=float32)>), (None, <tf.Variable 'dense_37/bias:0' shape=(3,) dtype=float32, numpy=array([0., 0., 0.], dtype=float32)>), (None, <tf.Variable 'dense_38/kernel:0' shape=(3, 2) dtype=float32, numpy=\narray([[ 0.4750092 , -0.88318056],\n       [ 0.5478524 ,  0.08125579],\n       [-1.0166084 ,  0.4646976 ]], dtype=float32)>), (None, <tf.Variable 'dense_38/bias:0' shape=(2,) dtype=float32, numpy=array([0., 0.], dtype=float32)>)).",
     "output_type": "error",
     "traceback": [
      "\u001b[0;31m---------------------------------------------------------------------------\u001b[0m",
      "\u001b[0;31mValueError\u001b[0m                                Traceback (most recent call last)",
      "Input \u001b[0;32mIn [30]\u001b[0m, in \u001b[0;36m<module>\u001b[0;34m\u001b[0m\n\u001b[1;32m     17\u001b[0m model \u001b[38;5;241m=\u001b[39m tf\u001b[38;5;241m.\u001b[39mkeras\u001b[38;5;241m.\u001b[39mmodels\u001b[38;5;241m.\u001b[39mSequential([\n\u001b[1;32m     18\u001b[0m         tf\u001b[38;5;241m.\u001b[39mkeras\u001b[38;5;241m.\u001b[39mlayers\u001b[38;5;241m.\u001b[39mFlatten(input_shape\u001b[38;5;241m=\u001b[39m(\u001b[38;5;241m3\u001b[39m, )),\n\u001b[1;32m     19\u001b[0m         tf\u001b[38;5;241m.\u001b[39mkeras\u001b[38;5;241m.\u001b[39mlayers\u001b[38;5;241m.\u001b[39mDense(\u001b[38;5;241m3\u001b[39m, activation\u001b[38;5;241m=\u001b[39mactivation,kernel_initializer\u001b[38;5;241m=\u001b[39minitializer),\n\u001b[1;32m     20\u001b[0m         tf\u001b[38;5;241m.\u001b[39mkeras\u001b[38;5;241m.\u001b[39mlayers\u001b[38;5;241m.\u001b[39mDense(\u001b[38;5;241m3\u001b[39m, activation\u001b[38;5;241m=\u001b[39mactivation,kernel_initializer\u001b[38;5;241m=\u001b[39minitializer),\n\u001b[1;32m     21\u001b[0m         tf\u001b[38;5;241m.\u001b[39mkeras\u001b[38;5;241m.\u001b[39mlayers\u001b[38;5;241m.\u001b[39mDense(\u001b[38;5;241m2\u001b[39m)\n\u001b[1;32m     22\u001b[0m         ])\n\u001b[1;32m     25\u001b[0m model\u001b[38;5;241m.\u001b[39mcompile(loss\u001b[38;5;241m=\u001b[39mshift_inv_dist(),optimizer \u001b[38;5;241m=\u001b[39m tf\u001b[38;5;241m.\u001b[39mkeras\u001b[38;5;241m.\u001b[39moptimizers\u001b[38;5;241m.\u001b[39mAdam(\n\u001b[1;32m     26\u001b[0m     learning_rate\u001b[38;5;241m=\u001b[39mlr_decay, name\u001b[38;5;241m=\u001b[39m\u001b[38;5;124m'\u001b[39m\u001b[38;5;124mAdam\u001b[39m\u001b[38;5;124m'\u001b[39m),run_eagerly\u001b[38;5;241m=\u001b[39m\u001b[38;5;28;01mTrue\u001b[39;00m)\n\u001b[0;32m---> 27\u001b[0m history \u001b[38;5;241m=\u001b[39m \u001b[43mmodel\u001b[49m\u001b[38;5;241;43m.\u001b[39;49m\u001b[43mfit\u001b[49m\u001b[43m(\u001b[49m\u001b[43mX\u001b[49m\u001b[43m,\u001b[49m\u001b[43m \u001b[49m\u001b[43mX\u001b[49m\u001b[43m,\u001b[49m\u001b[43mepochs\u001b[49m\u001b[38;5;241;43m=\u001b[39;49m\u001b[38;5;241;43m1\u001b[39;49m\u001b[43m,\u001b[49m\u001b[43mbatch_size\u001b[49m\u001b[38;5;241;43m=\u001b[39;49m\u001b[43mn_samples\u001b[49m\u001b[43m,\u001b[49m\u001b[43mverbose\u001b[49m\u001b[43m \u001b[49m\u001b[38;5;241;43m=\u001b[39;49m\u001b[43m \u001b[49m\u001b[38;5;241;43m0\u001b[39;49m\u001b[43m)\u001b[49m\n",
      "File \u001b[0;32m~/miniforge3/envs/mlp/lib/python3.8/site-packages/keras/utils/traceback_utils.py:67\u001b[0m, in \u001b[0;36mfilter_traceback.<locals>.error_handler\u001b[0;34m(*args, **kwargs)\u001b[0m\n\u001b[1;32m     65\u001b[0m \u001b[38;5;28;01mexcept\u001b[39;00m \u001b[38;5;167;01mException\u001b[39;00m \u001b[38;5;28;01mas\u001b[39;00m e:  \u001b[38;5;66;03m# pylint: disable=broad-except\u001b[39;00m\n\u001b[1;32m     66\u001b[0m   filtered_tb \u001b[38;5;241m=\u001b[39m _process_traceback_frames(e\u001b[38;5;241m.\u001b[39m__traceback__)\n\u001b[0;32m---> 67\u001b[0m   \u001b[38;5;28;01mraise\u001b[39;00m e\u001b[38;5;241m.\u001b[39mwith_traceback(filtered_tb) \u001b[38;5;28;01mfrom\u001b[39;00m \u001b[38;5;28mNone\u001b[39m\n\u001b[1;32m     68\u001b[0m \u001b[38;5;28;01mfinally\u001b[39;00m:\n\u001b[1;32m     69\u001b[0m   \u001b[38;5;28;01mdel\u001b[39;00m filtered_tb\n",
      "File \u001b[0;32m~/miniforge3/envs/mlp/lib/python3.8/site-packages/keras/optimizer_v2/utils.py:73\u001b[0m, in \u001b[0;36mfilter_empty_gradients\u001b[0;34m(grads_and_vars)\u001b[0m\n\u001b[1;32m     71\u001b[0m \u001b[38;5;28;01mif\u001b[39;00m \u001b[38;5;129;01mnot\u001b[39;00m filtered:\n\u001b[1;32m     72\u001b[0m   variable \u001b[38;5;241m=\u001b[39m ([v\u001b[38;5;241m.\u001b[39mname \u001b[38;5;28;01mfor\u001b[39;00m _, v \u001b[38;5;129;01min\u001b[39;00m grads_and_vars],)\n\u001b[0;32m---> 73\u001b[0m   \u001b[38;5;28;01mraise\u001b[39;00m \u001b[38;5;167;01mValueError\u001b[39;00m(\u001b[38;5;124mf\u001b[39m\u001b[38;5;124m\"\u001b[39m\u001b[38;5;124mNo gradients provided for any variable: \u001b[39m\u001b[38;5;132;01m{\u001b[39;00mvariable\u001b[38;5;132;01m}\u001b[39;00m\u001b[38;5;124m. \u001b[39m\u001b[38;5;124m\"\u001b[39m\n\u001b[1;32m     74\u001b[0m                    \u001b[38;5;124mf\u001b[39m\u001b[38;5;124m\"\u001b[39m\u001b[38;5;124mProvided `grads_and_vars` is \u001b[39m\u001b[38;5;132;01m{\u001b[39;00mgrads_and_vars\u001b[38;5;132;01m}\u001b[39;00m\u001b[38;5;124m.\u001b[39m\u001b[38;5;124m\"\u001b[39m)\n\u001b[1;32m     75\u001b[0m \u001b[38;5;28;01mif\u001b[39;00m vars_with_empty_grads:\n\u001b[1;32m     76\u001b[0m   logging\u001b[38;5;241m.\u001b[39mwarning(\n\u001b[1;32m     77\u001b[0m       (\u001b[38;5;124m\"\u001b[39m\u001b[38;5;124mGradients do not exist for variables \u001b[39m\u001b[38;5;132;01m%s\u001b[39;00m\u001b[38;5;124m when minimizing the loss. \u001b[39m\u001b[38;5;124m\"\u001b[39m\n\u001b[1;32m     78\u001b[0m        \u001b[38;5;124m\"\u001b[39m\u001b[38;5;124mIf you\u001b[39m\u001b[38;5;124m'\u001b[39m\u001b[38;5;124mre using `model.compile()`, did you forget to provide a `loss`\u001b[39m\u001b[38;5;124m\"\u001b[39m\n\u001b[1;32m     79\u001b[0m        \u001b[38;5;124m\"\u001b[39m\u001b[38;5;124margument?\u001b[39m\u001b[38;5;124m\"\u001b[39m),\n\u001b[1;32m     80\u001b[0m       ([v\u001b[38;5;241m.\u001b[39mname \u001b[38;5;28;01mfor\u001b[39;00m v \u001b[38;5;129;01min\u001b[39;00m vars_with_empty_grads]))\n",
      "\u001b[0;31mValueError\u001b[0m: No gradients provided for any variable: (['dense_36/kernel:0', 'dense_36/bias:0', 'dense_37/kernel:0', 'dense_37/bias:0', 'dense_38/kernel:0', 'dense_38/bias:0'],). Provided `grads_and_vars` is ((None, <tf.Variable 'dense_36/kernel:0' shape=(3, 3) dtype=float32, numpy=\narray([[ 0.8028116 , -0.6006002 ,  0.5280424 ],\n       [-0.24755795, -0.4338669 ,  0.15821561],\n       [-0.8441816 , -0.30583236, -0.24933997]], dtype=float32)>), (None, <tf.Variable 'dense_36/bias:0' shape=(3,) dtype=float32, numpy=array([0., 0., 0.], dtype=float32)>), (None, <tf.Variable 'dense_37/kernel:0' shape=(3, 3) dtype=float32, numpy=\narray([[-0.2938483 ,  0.5738218 ,  0.13579103],\n       [-0.9736449 , -0.5466163 ,  0.41925633],\n       [-0.08921768, -0.30201662, -0.2585532 ]], dtype=float32)>), (None, <tf.Variable 'dense_37/bias:0' shape=(3,) dtype=float32, numpy=array([0., 0., 0.], dtype=float32)>), (None, <tf.Variable 'dense_38/kernel:0' shape=(3, 2) dtype=float32, numpy=\narray([[ 0.4750092 , -0.88318056],\n       [ 0.5478524 ,  0.08125579],\n       [-1.0166084 ,  0.4646976 ]], dtype=float32)>), (None, <tf.Variable 'dense_38/bias:0' shape=(2,) dtype=float32, numpy=array([0., 0.], dtype=float32)>))."
     ]
    }
   ],
   "source": [
    "np.random.seed(1)\n",
    "swiss = make_swiss_roll_with_hole(n_samples = 300)\n",
    "swiss = np.array(swiss, dtype = np.float32)\n",
    "X = swiss\n",
    "\n",
    "lr = 0.01\n",
    "n_samples = 300\n",
    "lr_decay = tf.keras.optimizers.schedules.ExponentialDecay(\n",
    "                initial_learning_rate=lr,\n",
    "                decay_steps=100000,\n",
    "                decay_rate=0.96,\n",
    "                staircase=True)\n",
    "activation = \"sigmoid\"\n",
    "layer = 2\n",
    "initializer = initializers.GlorotNormal(seed=1)\n",
    "\n",
    "model = tf.keras.models.Sequential([\n",
    "        tf.keras.layers.Flatten(input_shape=(3, )),\n",
    "        tf.keras.layers.Dense(3, activation=activation,kernel_initializer=initializer),\n",
    "        tf.keras.layers.Dense(3, activation=activation,kernel_initializer=initializer),\n",
    "        tf.keras.layers.Dense(2)\n",
    "        ])\n",
    "\n",
    "                \n",
    "model.compile(loss=shift_inv_dist(),optimizer = tf.keras.optimizers.Adam(\n",
    "    learning_rate=lr_decay, name='Adam'),run_eagerly=True)\n",
    "history = model.fit(X, X,epochs=1,batch_size=n_samples,verbose = 0) "
   ]
  },
  {
   "cell_type": "code",
   "execution_count": 9,
   "id": "3d62a287",
   "metadata": {},
   "outputs": [
    {
     "name": "stdout",
     "output_type": "stream",
     "text": [
      "original bottleneck distance 6.385148351220664\n",
      "dilation-invariant bottleneck distance (using log) is 3.251144030742807\n"
     ]
    },
    {
     "data": {
      "text/plain": [
       "<matplotlib.legend.Legend at 0x1268bf250>"
      ]
     },
     "execution_count": 9,
     "metadata": {},
     "output_type": "execute_result"
    },
    {
     "data": {
      "image/png": "[encoded data removed]",
      "text/plain": [
       "<Figure size 432x288 with 1 Axes>"
      ]
     },
     "metadata": {
      "needs_background": "light"
     },
     "output_type": "display_data"
    }
   ],
   "source": [
    "#load data\n",
    "\n",
    "#file_list = ['activity_net_euclidean_cosine.npz','activity_net_euclidean.npz']\n",
    "#file_list = ['activity_net_euclidean_expmap_poincare.npz','activity_net_poincare.npz']\n",
    "file_list = ['mammals_euclidean_cosine.npz','mammals_euclidean.npz']\n",
    "#file_list = ['mammals_euclidean_expmap_poincare.npz','mammals_poincare.npz']\n",
    "\n",
    "dist_list = [np.load(u)['arr_0'] for u in file_list]\n",
    "\n",
    "X = dist_list[0][0]\n",
    "Y = dist_list[1][0]\n",
    "\n",
    "X = np.delete(X, -1, axis = 1)\n",
    "Y = np.delete(Y, -1, axis = 1)\n",
    "\n",
    "# ## avoid -inf in log map\n",
    "ep = 1e-10\n",
    "X = np.log(X+ep)\n",
    "Y = np.log(Y+ep)\n",
    "\n",
    "shiftInv, bottleneckDistance, minBottleneckDistance, bestShift = myDistance(X, Y, 100)\n",
    "\n",
    "plt.figure()\n",
    "label = ['different shifts','no shift','optimal shift']\n",
    "plt.xlabel(\"log shift parameters\")\n",
    "plt.ylabel(\"bottleneck distances\")\n",
    "plt.plot(shiftInv[0:len(shiftInv)-1], bottleneckDistance[0:len(bottleneckDistance)-1])\n",
    "# the last element corresponds to no dilation\n",
    "plt.axhline(y=bottleneckDistance[-1], color='r', linestyle='-.')\n",
    "plt.axhline(y=minBottleneckDistance, color='g', linestyle='-')\n",
    "plt.legend(label, loc='best')"
   ]
  },
  {
   "cell_type": "code",
   "execution_count": 8,
   "id": "72554bc6",
   "metadata": {},
   "outputs": [
    {
     "data": {
      "image/png": "[encoded data removed]",
      "text/plain": [
       "<Figure size 288x288 with 1 Axes>"
      ]
     },
     "metadata": {
      "needs_background": "light"
     },
     "output_type": "display_data"
    }
   ],
   "source": [
    "np.random.seed(1)\n",
    "swiss = make_swiss_roll_with_hole(n_samples = 300)\n",
    "swiss = np.array(swiss, dtype = np.float32)\n",
    "plot(swiss)\n",
    "#swiss += np.abs(swiss.min())\n"
   ]
  },
  {
   "cell_type": "code",
   "execution_count": 9,
   "id": "d3eec6d5",
   "metadata": {},
   "outputs": [
    {
     "ename": "NameError",
     "evalue": "name 'RipsModel' is not defined",
     "output_type": "error",
     "traceback": [
      "\u001b[0;31m---------------------------------------------------------------------------\u001b[0m",
      "\u001b[0;31mNameError\u001b[0m                                 Traceback (most recent call last)",
      "Input \u001b[0;32mIn [9]\u001b[0m, in \u001b[0;36m<module>\u001b[0;34m\u001b[0m\n\u001b[0;32m----> 1\u001b[0m \u001b[43mPD\u001b[49m\u001b[43m(\u001b[49m\u001b[43mswiss\u001b[49m\u001b[43m)\u001b[49m\n",
      "Input \u001b[0;32mIn [7]\u001b[0m, in \u001b[0;36mPD\u001b[0;34m(X, mel)\u001b[0m\n\u001b[1;32m      1\u001b[0m \u001b[38;5;28;01mdef\u001b[39;00m \u001b[38;5;21mPD\u001b[39m(X,mel\u001b[38;5;241m=\u001b[39m\u001b[38;5;241m30\u001b[39m):\n\u001b[1;32m      2\u001b[0m     X \u001b[38;5;241m=\u001b[39m np\u001b[38;5;241m.\u001b[39marray(X, dtype \u001b[38;5;241m=\u001b[39m np\u001b[38;5;241m.\u001b[39mfloat32) \n\u001b[0;32m----> 3\u001b[0m     modelR \u001b[38;5;241m=\u001b[39m \u001b[43mRipsModel\u001b[49m(P\u001b[38;5;241m=\u001b[39mX,X\u001b[38;5;241m=\u001b[39mX, mel\u001b[38;5;241m=\u001b[39mmel, dim\u001b[38;5;241m=\u001b[39m\u001b[38;5;241m1\u001b[39m, card \u001b[38;5;241m=\u001b[39m \u001b[38;5;241m150\u001b[39m)\n\u001b[1;32m      4\u001b[0m     Xdgm \u001b[38;5;241m=\u001b[39m modelR\u001b[38;5;241m.\u001b[39mcall()[\u001b[38;5;241m0\u001b[39m]\n\u001b[1;32m      5\u001b[0m     plt\u001b[38;5;241m.\u001b[39mscatter(Xdgm\u001b[38;5;241m.\u001b[39mnumpy()[:,\u001b[38;5;241m0\u001b[39m],Xdgm\u001b[38;5;241m.\u001b[39mnumpy()[:,\u001b[38;5;241m1\u001b[39m],alpha\u001b[38;5;241m=\u001b[39m\u001b[38;5;241m0.5\u001b[39m)\n",
      "\u001b[0;31mNameError\u001b[0m: name 'RipsModel' is not defined"
     ]
    }
   ],
   "source": [
    "PD(swiss)"
   ]
  },
  {
   "cell_type": "code",
   "execution_count": 7,
   "id": "734937a6",
   "metadata": {},
   "outputs": [],
   "source": [
    "def PD(X,mel=30):\n",
    "    X = np.array(X, dtype = np.float32) \n",
    "    modelR = RipsModel(P=X,X=X, mel=mel, dim=1, card = 150)\n",
    "    Xdgm = modelR.call()[0]\n",
    "    plt.scatter(Xdgm.numpy()[:,0],Xdgm.numpy()[:,1],alpha=0.5)\n",
    "    return \n",
    "\n",
    "def plot(X,dim = 3,deg=45):\n",
    "    \n",
    "    if dim==3:\n",
    "        fig = plt.figure(figsize=plt.figaspect(1))\n",
    "        ax=fig.add_subplot(projection='3d')\n",
    "        ax.scatter(X[:,0],X[:,1],X[:,2])\n",
    "        ax.view_init(0,deg)\n",
    "        \n",
    "    return \n"
   ]
  },
  {
   "cell_type": "code",
   "execution_count": 43,
   "id": "64dc2be5",
   "metadata": {},
   "outputs": [],
   "source": [
    "#load data\n",
    "\n",
    "#file_list = ['activity_net_euclidean_cosine.npz','activity_net_euclidean.npz']\n",
    "#file_list = ['activity_net_euclidean_expmap_poincare.npz','activity_net_poincare.npz']\n",
    "file_list = ['mammals_euclidean_cosine.npz','mammals_euclidean.npz']\n",
    "#file_list = ['mammals_euclidean_expmap_poincare.npz','mammals_poincare.npz']\n",
    "\n",
    "dist_list = [np.load(u)['arr_0'] for u in file_list]\n",
    "\n",
    "X = dist_list[0][0]\n",
    "Y = dist_list[1][0]\n",
    "\n",
    "X = np.delete(X, -1, axis = 1)\n",
    "Y = np.delete(Y, -1, axis = 1)\n",
    "\n",
    "# ## avoid -inf in log map\n",
    "ep = 1e-10\n",
    "X = np.log(X+ep)\n",
    "Y = np.log(Y+ep)"
   ]
  }
 ],
 "metadata": {
  "kernelspec": {
   "display_name": "Python 3 (ipykernel)",
   "language": "python",
   "name": "python3"
  },
  "language_info": {
   "codemirror_mode": {
    "name": "ipython",
    "version": 3
   },
   "file_extension": ".py",
   "mimetype": "text/x-python",
   "name": "python",
   "nbconvert_exporter": "python",
   "pygments_lexer": "ipython3",
   "version": "3.8.12"
  }
 },
 "nbformat": 4,
 "nbformat_minor": 5
}
